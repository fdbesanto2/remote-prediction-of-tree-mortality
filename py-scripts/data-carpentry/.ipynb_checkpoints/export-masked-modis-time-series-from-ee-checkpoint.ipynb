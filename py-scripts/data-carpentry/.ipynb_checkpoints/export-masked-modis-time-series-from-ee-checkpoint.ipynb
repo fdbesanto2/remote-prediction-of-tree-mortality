{
 "cells": [
  {
   "cell_type": "code",
   "execution_count": 1,
   "metadata": {
    "collapsed": true
   },
   "outputs": [],
   "source": [
    "# Import the Earth Engine Python Package\n",
    "import ee\n",
    "\n",
    "# Initialize the Earth Engine object, using the authentication credentials.\n",
    "ee.Initialize()"
   ]
  },
  {
   "cell_type": "code",
   "execution_count": 2,
   "metadata": {},
   "outputs": [
    {
     "name": "stdout",
     "output_type": "stream",
     "text": [
      "397\n"
     ]
    }
   ],
   "source": [
    "# Import the required Images and ImageCollections\n",
    "sn = ee.FeatureCollection(\"ft:1vdDUTu09Rkw5qKR_DSfmFX-b_7kqy4E-pjxg9Sq6\");\n",
    "modis = ee.ImageCollection(\"MODIS/006/MOD13Q1\");\n",
    "\n",
    "# How many images are in the MODIS ImageCollection?\n",
    "print(modis.size().getInfo());"
   ]
  },
  {
   "cell_type": "code",
   "execution_count": 8,
   "metadata": {},
   "outputs": [
    {
     "data": {
      "text/html": [
       "<img src=\"https://earthengine.googleapis.com/api/thumb?thumbid=92adc1b8473fe0c3e152a74a744f54f8&token=4d2a8bc5706b556c591c3d9be494313f\"/>"
      ],
      "text/plain": [
       "<IPython.core.display.Image object>"
      ]
     },
     "metadata": {},
     "output_type": "display_data"
    }
   ],
   "source": [
    "# Display an image to make sure everything is working as expected.\n",
    "\n",
    "from IPython.display import Image, display, HTML\n",
    "\n",
    "thumburl = ee.Image(modis.first()).select('EVI').getThumbUrl({\n",
    "                'min':0, \n",
    "                'max':8000          \n",
    "            })\n",
    "\n",
    "#print thumburl\n",
    "img_thumb = Image(url=thumburl)\n",
    "display(img_thumb)"
   ]
  },
  {
   "cell_type": "code",
   "execution_count": 56,
   "metadata": {},
   "outputs": [],
   "source": [
    "# Define the masking function that will determine which pixels are both forested AND of high MODIS quality.\n",
    "\n",
    "def quality_mask(img):\n",
    "#   date = ee.Date(img.get('system:time_start')).format(\"YYYYMMdd\")\n",
    "#   date = ee.Number.parse(date)\n",
    "  \n",
    "  date = ee.Image(ee.Number(img.get('system:time_start'))).rename([\"date\"]).divide(1000)\n",
    "     \n",
    "  quality_pixels = img.select([\"SummaryQA\"]).rename([\"quality_pixel\"]).eq(0)\n",
    "  mask = ee.Image(1).rename([\"mask\"])\n",
    "  clean_img = img.select([\"EVI\"]).addBands(date).addBands(mask).updateMask(quality_pixels).toInt32().clip(sn)\n",
    "  export_img = clean_img\n",
    "\n",
    "#  clean_img = img.select([\n",
    "        # \"NDVI\", \n",
    "#        \"EVI\", \n",
    "        # \"sur_refl_b01\", \n",
    "        # \"sur_refl_b02\", \n",
    "        # \"sur_refl_b03\", \n",
    "        # \"sur_refl_b07\",\n",
    "        # \"ViewZenith\",\n",
    "        # \"SolarZenith\",\n",
    "        # \"RelativeAzimuth\",\n",
    "        # \"DayOfYear\",\n",
    "        # \"SummaryQA\",\n",
    "        # \"DetailedQA\"\n",
    "#                          ]).addBands(date).updateMask(quality_pixels).toInt32().clip(sn)\n",
    "#   In order to export a \"masked\" image, fill the masked pixels with a silly number\n",
    "#   All \"masked\" pixels will have a value of 1 (or -9999 for the commented out code)\n",
    "#   I switched it to 1 in an effort to save space?\n",
    "\n",
    "#   First, generate a dummy image with the same number of bands as the MODIS image\n",
    "#   var filled_img = ee.Image([ -9999, -9999, -9999, \n",
    "#                             -9999, -9999, -9999, \n",
    "#                             -9999, -9999, -9999, \n",
    "#                             -9999, -9999, -9999])\n",
    "#  filled_img = ee.Image([\n",
    "                        # -1, # NDVI\n",
    "#                        -1, # EVI\n",
    "                        # 0, # sur_refl_b01\n",
    "                        # 0, # sur_refl_b02\n",
    "                        # 0, # sur_refl_b03\n",
    "                        # 0, # sur_refl_b07\n",
    "                        # 0, # ViewZenith\n",
    "                        # 0, # SolarZenith\n",
    "                        # 0, # RelativeAzimuth\n",
    "                        # 0, # DayOfYear\n",
    "  #                      -1, # SummaryQA\n",
    "                        # 0, # DetailedQA\n",
    " #                       -1  # date\n",
    "  #                      ]).rename([\n",
    "                                   # \"NDVI\", \n",
    "  #                                 \"EVI\", \n",
    "                                   # \"sur_refl_b01\", \n",
    "                                   # \"sur_refl_b02\", \n",
    "                                   # \"sur_refl_b03\", \n",
    "                                   # \"sur_refl_b07\",\n",
    "                                   # \"ViewZenith\",\n",
    "                                   # \"SolarZenith\",\n",
    "                                   # \"RelativeAzimuth\",\n",
    "                                   # \"DayOfYear\",\n",
    " #                                  \"SummaryQA\",\n",
    "                                   # \"DetailedQA\",\n",
    " #                                  \"date\"])\n",
    "\n",
    "#   Where there is a mask in the clean image, replace the value of the clean image with the \n",
    "#   value from the dummy image (with -1 in NDVI and EVI bands, 1 in SummaryQA band, and 0 elsewhere\n",
    "#  export_img = filled_img.where(clean_img.mask(), clean_img).clip(sn.geometry().bounds())\n",
    "#  export_img = ee.Image(export_img.copyProperties(clean_img, ['system:time_start']))\n",
    "\n",
    "  return export_img;"
   ]
  },
  {
   "cell_type": "code",
   "execution_count": 57,
   "metadata": {},
   "outputs": [
    {
     "name": "stdout",
     "output_type": "stream",
     "text": [
      "{'properties': {'system:index': '2000_02_18', 'system:asset_size': 28219636986, 'system:time_start': 950832000000, 'system:time_end': 952214400000}, 'version': 1493667561435000, 'type': 'Image', 'id': 'MODIS/006/MOD13Q1/2000_02_18', 'bands': [{'crs_transform': [231.65635826395825, 0.0, -20015109.353988, 0.0, -231.65635826395834, 10007554.676994], 'data_type': {'precision': 'int', 'max': 2147483647, 'type': 'PixelType', 'min': -2147483648}, 'crs': 'SR-ORG:6974', 'id': 'EVI', 'dimensions': [172800, 86400]}, {'crs_transform': [1.0, 0.0, 0.0, 0.0, 1.0, 0.0], 'data_type': {'precision': 'int', 'max': 2147483647, 'type': 'PixelType', 'min': -2147483648}, 'crs': 'EPSG:4326', 'id': 'date'}, {'crs_transform': [1.0, 0.0, 0.0, 0.0, 1.0, 0.0], 'data_type': {'precision': 'int', 'max': 2147483647, 'type': 'PixelType', 'min': -2147483648}, 'crs': 'EPSG:4326', 'id': 'mask'}]}\n",
      "['EVI', 'date', 'mask']\n"
     ]
    }
   ],
   "source": [
    "# Map the masking function to the MODIS image collection\n",
    "\n",
    "m_modis = modis.map(quality_mask);\n",
    "print(ee.Image(m_modis.first()).getInfo())\n",
    "print(ee.Image(m_modis.first()).bandNames().getInfo())"
   ]
  },
  {
   "cell_type": "code",
   "execution_count": 61,
   "metadata": {},
   "outputs": [
    {
     "name": "stdout",
     "output_type": "stream",
     "text": [
      "{'properties': {'system:index': '2000_02_18', 'system:asset_size': 28219636986, 'system:time_start': 950832000000, 'system:time_end': 952214400000}, 'version': 1493667561435000, 'type': 'Image', 'id': 'MODIS/006/MOD13Q1/2000_02_18', 'bands': [{'crs_transform': [231.65635826395825, 0.0, -20015109.353988, 0.0, -231.65635826395834, 10007554.676994], 'data_type': {'precision': 'int', 'max': 2147483647, 'type': 'PixelType', 'min': -2147483648}, 'crs': 'SR-ORG:6974', 'id': 'EVI', 'dimensions': [172800, 86400]}, {'crs_transform': [1.0, 0.0, 0.0, 0.0, 1.0, 0.0], 'data_type': {'precision': 'int', 'max': 2147483647, 'type': 'PixelType', 'min': -2147483648}, 'crs': 'EPSG:4326', 'id': 'date'}, {'crs_transform': [1.0, 0.0, 0.0, 0.0, 1.0, 0.0], 'data_type': {'precision': 'int', 'max': 2147483647, 'type': 'PixelType', 'min': -2147483648}, 'crs': 'EPSG:4326', 'id': 'mask'}]}\n"
     ]
    },
    {
     "data": {
      "text/html": [
       "<img src=\"https://earthengine.googleapis.com/api/thumb?thumbid=ba30babb76b9f02a1b90209fbcabd7b4&token=f449c0e8b347721903db9165ecf72ef4\"/>"
      ],
      "text/plain": [
       "<IPython.core.display.Image object>"
      ]
     },
     "metadata": {},
     "output_type": "display_data"
    }
   ],
   "source": [
    "# Test the first image\n",
    "from IPython.display import Image, display, HTML\n",
    "\n",
    "test_img = ee.Image(m_modis.toList(1, 0).get(0));\n",
    "date = ee.Date(img.get('system:time_start')).format(\"YYYYMMdd\");\n",
    "\n",
    "thumburl = test_img.getThumbUrl({\n",
    "                'min':0, \n",
    "                'max':8000,\n",
    "            })\n",
    "\n",
    "#print thumburl\n",
    "img_thumb = Image(url=thumburl)\n",
    "display(img_thumb)"
   ]
  },
  {
   "cell_type": "code",
   "execution_count": 62,
   "metadata": {
    "scrolled": true
   },
   "outputs": [
    {
     "name": "stdout",
     "output_type": "stream",
     "text": [
      "0\n",
      "1\n"
     ]
    }
   ],
   "source": [
    "# loop through all images and create a feature representing the image number and acquisition date\n",
    "# Export each image upon looping\n",
    "\n",
    "# There are 397 images as of 2017-06-04\n",
    "# print(m_modis.size().getInfo());\n",
    "\n",
    "first_img = 0\n",
    "num_imgs = 1\n",
    "\n",
    "# Create a list with num_imgs empty list elements\n",
    "# metadata = ee.List.sequence({\n",
    "#   'start': 0,\n",
    "#   'end': 396,\n",
    "#   'step': 1\n",
    "# })\n",
    "# metadata = [None]*num_imgs\n",
    "print(first_img)\n",
    "print(num_imgs)\n",
    "# print(\"sn-whole-ts-modis-forest-quality-mask-%s\"%str(date))\n",
    "# Loop through all images, add the date to the appropriate list element, and export image\n",
    "for i in range(first_img, num_imgs):\n",
    "    img = ee.Image(m_modis.toList(1, i).get(0));\n",
    "    date = ee.Date(img.get('system:time_start')).format(\"YYYYMMdd\");\n",
    "  \n",
    "    task = ee.batch.Export.image.toDrive(**{\n",
    "        'image': img, \n",
    "        'description': \"sn_jep_modis_ts_quality_mask_epsg3310_\" + str(date.getInfo()), \n",
    "        'folder': 'ee/sn_jep_modis_ts_quality_mask_epsg3310', \n",
    "        'scale': 250, \n",
    "        'region': sn.geometry().getInfo()['coordinates'], \n",
    "        'crs': 'EPSG:3310'\n",
    "    })\n",
    "    task.start()"
   ]
  },
  {
   "cell_type": "code",
   "execution_count": null,
   "metadata": {
    "collapsed": true
   },
   "outputs": [],
   "source": []
  }
 ],
 "metadata": {
  "kernelspec": {
   "display_name": "Python 3",
   "language": "python",
   "name": "python3"
  },
  "language_info": {
   "codemirror_mode": {
    "name": "ipython",
    "version": 3
   },
   "file_extension": ".py",
   "mimetype": "text/x-python",
   "name": "python",
   "nbconvert_exporter": "python",
   "pygments_lexer": "ipython3",
   "version": "3.5.3"
  }
 },
 "nbformat": 4,
 "nbformat_minor": 1
}
